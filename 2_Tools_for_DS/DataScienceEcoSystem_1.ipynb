{
 "cells": [
  {
   "cell_type": "markdown",
   "id": "67cb7ada",
   "metadata": {},
   "source": [
    "***Exercise 2: Create markdown cell with title of the notebook***\n",
    "\n",
    "*Create a markdown cell with the title `Data Science Tools and Ecosystem` using H1 style heading.*"
   ]
  },
  {
   "cell_type": "markdown",
   "id": "ffa47a4a",
   "metadata": {},
   "source": [
    "# Data Science Tools and Ecosystem"
   ]
  },
  {
   "cell_type": "markdown",
   "id": "0f2add60",
   "metadata": {},
   "source": [
    "***Exercise 3: Create a markdown cell for an introduction***\n",
    "\n",
    "*Write an introductory sentence about the notebook such as the follows: `In this notebook, Data Science Tools and Ecosystem are summarized.`*"
   ]
  },
  {
   "cell_type": "markdown",
   "id": "42cc2268",
   "metadata": {},
   "source": [
    "In this notebook, Data Science Tools and Ecosystem are summarized."
   ]
  },
  {
   "cell_type": "markdown",
   "id": "a5227efb",
   "metadata": {},
   "source": [
    "**Objectives:**\n",
    "- List of popular languages for Data Science\n",
    "- List of the commonly used libraries by Data Scientists\n",
    "- Three development environment open source Data Science tools\n",
    "- The examples of evaluating arithmetic expressions in Python"
   ]
  },
  {
   "cell_type": "markdown",
   "id": "7d52fa3c",
   "metadata": {},
   "source": [
    "***Exercise 4: Create a markdown cell to list data science languages***\n",
    "\n",
    "*Start the cell with an overview line such as: `Some of the popular languages that Data Scientists use are:`. Then create an `ordered list` (i.e. numbered) listing 3 (or more) commonly used languages for data science.*"
   ]
  },
  {
   "cell_type": "markdown",
   "id": "a5c918c8",
   "metadata": {},
   "source": [
    "Some of the popular languages that Data Scientists use are:\n",
    "1. Python\n",
    "2. R\n",
    "3. Julia\n",
    "4. SQL\n",
    "5. C++\n",
    "6. Java\n",
    "7. Scala\n",
    "8. C"
   ]
  },
  {
   "cell_type": "markdown",
   "id": "bd8c8eca",
   "metadata": {},
   "source": [
    "***Exercise 5: Create a markdown cell to list data science libraries***\n",
    "\n",
    "*Add an overview line to the cell like: `Some of the commonly used libraries used by Data Scientists include:` Below this line add an `ordered list` listing 3 (or more) commonly used libraries in data science.*"
   ]
  },
  {
   "cell_type": "markdown",
   "id": "fdfedc4d",
   "metadata": {},
   "source": [
    "Some of the commonly used libraries used by Data Scientists include:\n",
    "\n",
    "1. NumPy\n",
    "2. Pandas\n",
    "3. Matplotlib\n",
    "4. Seaborn\n",
    "5. Scikit-learn\n",
    "6. TensorFlow\n",
    "7. Keras\n",
    "8. SciPy\n",
    "9. Plotly\n",
    "10. PyTorch"
   ]
  },
  {
   "cell_type": "markdown",
   "id": "be08a74d",
   "metadata": {},
   "source": [
    "***Exercise 6: Create a markdown cell with a table of Data Science tools***\n",
    "\n",
    "*Create a single column table in this cell with the first row containing the header `Data Science Tools`. The subsequent three rows in the table should indicate three development environment open source tools used in data science.*"
   ]
  },
  {
   "cell_type": "markdown",
   "id": "d1f6ef94",
   "metadata": {},
   "source": [
    "| Data Science Tools |\n",
    "| ------------------ |\n",
    "| Jupiter Notebooks |\n",
    "| RStudio |\n",
    "| Microsoft Visual Studio |"
   ]
  },
  {
   "cell_type": "markdown",
   "id": "ab6ce3f8",
   "metadata": {},
   "source": [
    "***Exercise 7 - Create a markdown cell introducing arithmetic expression examples***\n",
    "\n",
    "*Add a line in this cell with H3 style heading with text like: `Below are a few examples of evaluating arithmetic expressions in Python`.*"
   ]
  },
  {
   "cell_type": "markdown",
   "id": "bf7d17bf",
   "metadata": {},
   "source": [
    "### Below are a few examples of evaluating arithmetic expressions in Python"
   ]
  },
  {
   "cell_type": "markdown",
   "id": "ec4cdac2",
   "metadata": {},
   "source": [
    "***Exercise 8: Create a code cell to multiply and add numbers***\n",
    "\n",
    "*In this code cell evaluate the expression `(3*4)+5`.\n",
    "Insert a comment line before the expression to explain the operation e.g.  `This a simple arithmetic expression to mutiply then add integers`.\n",
    "Then execute the cell to ensure the expression returns the expected output of `17`.*"
   ]
  },
  {
   "cell_type": "code",
   "execution_count": 1,
   "id": "56058aaa",
   "metadata": {},
   "outputs": [
    {
     "data": {
      "text/plain": [
       "17"
      ]
     },
     "execution_count": 1,
     "metadata": {},
     "output_type": "execute_result"
    }
   ],
   "source": [
    "# This is a simple arithmetic expression to multiply then add integers\n",
    "(3*4)+5"
   ]
  },
  {
   "cell_type": "markdown",
   "id": "f6ed87a9",
   "metadata": {},
   "source": [
    "***Exercise 9: Create a code cell to convert minutes to hours***\n",
    "\n",
    "*In this code cell write an expression that converts `200 minutes` into `hours`. Insert a comment line before the expression to explain the operation e.g.  `This will convert 200 minutes to hours by diving by 60`. Run the cell to evaluate the expression.*"
   ]
  },
  {
   "cell_type": "code",
   "execution_count": 4,
   "id": "2947a8cc",
   "metadata": {},
   "outputs": [
    {
     "data": {
      "text/plain": [
       "3.3333333333333335"
      ]
     },
     "execution_count": 4,
     "metadata": {},
     "output_type": "execute_result"
    }
   ],
   "source": [
    "# This will convert 200 minutes to hours by diving by 60\n",
    "200 / 60"
   ]
  },
  {
   "cell_type": "markdown",
   "id": "cb60326d",
   "metadata": {},
   "source": [
    "***Exercise 10: Insert a markdown cell to list Objectives***\n",
    "\n",
    "*Below the introduction cell created in Exercise 3, insert a new markdown cell to list the objectives that this notebook covered (i.e. some of the key takeaways from the course). In this new cell start with an introductory line titled: `Objectives:` in bold font. Then using an `unordered list` (bullets) indicate 3 to 5 items covered in this notebook, such as `List popular languages for Data Science`.*"
   ]
  },
  {
   "cell_type": "markdown",
   "id": "edbd1bca",
   "metadata": {},
   "source": [
    "***Exercise 11: Create a markdown cell to indicate the Author's name***\n",
    "\n",
    "*In this markdown cell markdown cell include the following text `Author` in `H2 style heading`. Include your `name` as regular text below the word `Author`.*"
   ]
  },
  {
   "cell_type": "markdown",
   "id": "461447fc",
   "metadata": {},
   "source": [
    "## Author\n",
    "Yuliia Chorna"
   ]
  },
  {
   "cell_type": "markdown",
   "id": "36ef4ef9",
   "metadata": {},
   "source": [
    "***Exercise 12: Share your notebook through GitHub***\n",
    "\n",
    "*Upload your notebook to a public respository on GitHub.*\n",
    "\n",
    "*Note : Please keep the GitHub repo link of the notebook handy. You will need to submit this link as a part of the assignment evaluation.*"
   ]
  },
  {
   "cell_type": "markdown",
   "id": "f5860806",
   "metadata": {},
   "source": [
    "***Exercise 13: Take a screenshot of the first page of the notebook and save it as `1-notebook.png`***\n",
    "\n",
    "*Refer to **Hands-on Lab: Getting Started with GitHub** to upload the downloaded notebook to GitHub.*"
   ]
  }
 ],
 "metadata": {
  "kernelspec": {
   "display_name": "Python 3",
   "language": "python",
   "name": "python3"
  },
  "language_info": {
   "codemirror_mode": {
    "name": "ipython",
    "version": 3
   },
   "file_extension": ".py",
   "mimetype": "text/x-python",
   "name": "python",
   "nbconvert_exporter": "python",
   "pygments_lexer": "ipython3",
   "version": "3.12.4"
  }
 },
 "nbformat": 4,
 "nbformat_minor": 5
}
